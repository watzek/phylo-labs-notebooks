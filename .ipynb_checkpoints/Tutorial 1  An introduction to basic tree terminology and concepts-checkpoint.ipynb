{
 "cells": [
  {
   "cell_type": "markdown",
   "metadata": {},
   "source": [
    "# Tutorial 1:  An introduction to basic tree terminology and concepts\n",
    "\n",
    "This tutorial is designed to familiarize you with the anatomy and vocabulary of phylogenetic trees, simple mathematical facts about tree diagrams, and how to represent uncertainty in a phylogenetic tree.  This lab will also introduce you to the software Mesquite. _The lab was modified from a course designed by Wayne & David Maddison, University of Arizona, and complements material in Chapter 3 of Baum and Smith, 2013._\n",
    "\n"
   ]
  },
  {
   "cell_type": "markdown",
   "metadata": {},
   "source": [
    "## Part 1. The anatomy of a tree\n",
    "\n",
    "\n",
    "This section is analogous to the dissection of a phylogenetic tree with the goal of introducing you to the vocabulary and “anatomical” structure of trees.  The words to know are:\n",
    "\n",
    "Ancestor\n",
    "\n",
    "Branch\n",
    "\n",
    "Clade\n",
    "\n",
    "Descendent\n",
    "\n",
    "Dichotomy (= bifurcation)\n",
    "\n",
    "Edge\n",
    "\n",
    "Immediate ancestor (= parent node)\n",
    "\n",
    "Immediate descendent (= daughter node)\n",
    "\n",
    "Internal nodes\n",
    "\n",
    "Monophyletic\n",
    "\n",
    "MRCA (= most recent common ancestor)\n",
    "\n",
    "Node\n",
    "\n",
    "Paraphyletic\n",
    "\n",
    "Polyphyletic\n",
    "\n",
    "Polytomy (= multifurcation)\n",
    "\n",
    "Recency of common ancestry\n",
    "\n",
    "Reticulation\n",
    "\n",
    "Root\n",
    "\n",
    "Sister group\n",
    "\n",
    "Sister node\n",
    "\n",
    "Speciation\n",
    "\n",
    "Tree taxon\n",
    "\n",
    "Terminal nodes\n",
    "\n",
    "Terminal taxon\n",
    "\n",
    "Topology\n",
    "\n"
   ]
  },
  {
   "cell_type": "code",
   "execution_count": null,
   "metadata": {},
   "outputs": [],
   "source": []
  }
 ],
 "metadata": {
  "kernelspec": {
   "display_name": "Python 3",
   "language": "python",
   "name": "python3"
  },
  "language_info": {
   "codemirror_mode": {
    "name": "ipython",
    "version": 3
   },
   "file_extension": ".py",
   "mimetype": "text/x-python",
   "name": "python",
   "nbconvert_exporter": "python",
   "pygments_lexer": "ipython3",
   "version": "3.6.8"
  }
 },
 "nbformat": 4,
 "nbformat_minor": 2
}
